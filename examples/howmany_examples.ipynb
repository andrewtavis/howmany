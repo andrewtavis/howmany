{
 "cells": [
  {
   "cell_type": "markdown",
   "id": "8f18a19a-f40f-487c-bde6-29779370754d",
   "metadata": {},
   "source": [
    "# howmany"
   ]
  },
  {
   "cell_type": "markdown",
   "id": "17f2453d-94fd-4402-b9d8-5cda89ad73d1",
   "metadata": {},
   "source": [
    "The following notebook gives a quick overview of how to use howmany."
   ]
  },
  {
   "cell_type": "code",
   "execution_count": 1,
   "id": "60210985-b12a-452f-9840-ea899ab19bc7",
   "metadata": {},
   "outputs": [],
   "source": [
    "pip install howmany"
   ]
  },
  {
   "cell_type": "code",
   "execution_count": 2,
   "id": "ae0cea85-0e53-45ac-a4cd-68aec81a4bad",
   "metadata": {},
   "outputs": [
    {
     "data": {
      "text/html": [
       "\n",
       "                <script type=\"application/javascript\" id=\"jupyter_black\">\n",
       "                (function() {\n",
       "                    if (window.IPython === undefined) {\n",
       "                        return\n",
       "                    }\n",
       "                    var msg = \"WARNING: it looks like you might have loaded \" +\n",
       "                        \"jupyter_black in a non-lab notebook with \" +\n",
       "                        \"`is_lab=True`. Please double check, and if \" +\n",
       "                        \"loading with `%load_ext` please review the README!\"\n",
       "                    console.log(msg)\n",
       "                    alert(msg)\n",
       "                })()\n",
       "                </script>\n",
       "                "
      ],
      "text/plain": [
       "<IPython.core.display.HTML object>"
      ]
     },
     "metadata": {},
     "output_type": "display_data"
    }
   ],
   "source": [
    "%load_ext jupyter_black"
   ]
  },
  {
   "cell_type": "code",
   "execution_count": 3,
   "id": "9fb0c7d7-f9fb-4142-97a0-5294947ad0a9",
   "metadata": {},
   "outputs": [
    {
     "data": {
      "text/html": [
       "<style>.container { width:99% !important; }</style>"
      ],
      "text/plain": [
       "<IPython.core.display.HTML object>"
      ]
     },
     "metadata": {},
     "output_type": "display_data"
    }
   ],
   "source": [
    "# import os\n",
    "# import sys\n",
    "\n",
    "# module_path = os.path.abspath(os.path.join(\"../src\"))\n",
    "# if module_path not in sys.path:\n",
    "#     sys.path.append(module_path)\n",
    "\n",
    "from IPython.display import display, HTML\n",
    "\n",
    "display(HTML(\"<style>.container { width:99% !important; }</style>\"))"
   ]
  },
  {
   "cell_type": "code",
   "execution_count": 4,
   "id": "8b36edbc-8cb8-4082-b2c9-5b3295ca5f15",
   "metadata": {},
   "outputs": [],
   "source": [
    "import howmany\n",
    "from howmany.utils import float_to_str"
   ]
  },
  {
   "cell_type": "code",
   "execution_count": 5,
   "id": "e0dc55b7-9efb-461f-adf6-213139b595cd",
   "metadata": {},
   "outputs": [],
   "source": [
    "soccer_fields_in_germany_dict = howmany.compare(\n",
    "    containers=\"Q183\", entities=\"Q8524\", pid=\"P2046\", iso=\"en\"\n",
    ")"
   ]
  },
  {
   "cell_type": "code",
   "execution_count": 6,
   "id": "a2e4b7e0-fd98-4619-bc83-3fbc7784a0cc",
   "metadata": {},
   "outputs": [
    {
     "name": "stdout",
     "output_type": "stream",
     "text": [
      "You could fit 50,453,300.88 association football pitches inside Germany.\n"
     ]
    }
   ],
   "source": [
    "for k in soccer_fields_in_germany_dict.keys():\n",
    "    amount = round(soccer_fields_in_germany_dict[k][\"amount\"], 2)\n",
    "    print(\n",
    "        f\"You could fit {amount:,} {soccer_fields_in_germany_dict[k]['entity']}es inside {k}.\"\n",
    "    )"
   ]
  },
  {
   "cell_type": "code",
   "execution_count": 7,
   "id": "68a488b1-ad6a-428f-8022-1e494b5ca6b4",
   "metadata": {},
   "outputs": [],
   "source": [
    "germanies_in_soccer_fields_dict = howmany.compare(\n",
    "    containers=\"Q8524\", entities=\"Q183\", pid=\"P2046\", iso=\"en\"\n",
    ")"
   ]
  },
  {
   "cell_type": "code",
   "execution_count": 8,
   "id": "d3b7baa6-2128-47b4-ade7-67fee1fb30a5",
   "metadata": {},
   "outputs": [
    {
     "name": "stdout",
     "output_type": "stream",
     "text": [
      "You could fit 0.000000019820308731475912 Germanys inside an association football pitch.\n"
     ]
    }
   ],
   "source": [
    "for k in germanies_in_soccer_fields_dict.keys():\n",
    "    amount = float_to_str(germanies_in_soccer_fields_dict[k][\"amount\"])\n",
    "    print(\n",
    "        f\"You could fit {amount} {germanies_in_soccer_fields_dict[k]['entity']}s inside an {k}.\"\n",
    "    )"
   ]
  },
  {
   "cell_type": "code",
   "execution_count": null,
   "id": "0a35b92a-3a8e-4161-ae2b-c33282f37351",
   "metadata": {},
   "outputs": [],
   "source": []
  }
 ],
 "metadata": {
  "kernelspec": {
   "display_name": "Python [conda env:howmany-dev] *",
   "language": "python",
   "name": "conda-env-howmany-dev-py"
  },
  "language_info": {
   "codemirror_mode": {
    "name": "ipython",
    "version": 3
   },
   "file_extension": ".py",
   "mimetype": "text/x-python",
   "name": "python",
   "nbconvert_exporter": "python",
   "pygments_lexer": "ipython3",
   "version": "3.10.13"
  }
 },
 "nbformat": 4,
 "nbformat_minor": 5
}
